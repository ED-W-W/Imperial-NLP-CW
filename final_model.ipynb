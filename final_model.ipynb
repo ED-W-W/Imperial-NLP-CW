{
 "cells": [
  {
   "cell_type": "code",
   "execution_count": 93,
   "metadata": {},
   "outputs": [],
   "source": [
    "import numpy as np\n",
    "import pandas as pd\n",
    "import os\n"
   ]
  },
  {
   "cell_type": "code",
   "execution_count": 94,
   "metadata": {},
   "outputs": [
    {
     "name": "stdout",
     "output_type": "stream",
     "text": [
      "10469\n",
      "9476\n",
      "993\n"
     ]
    }
   ],
   "source": [
    "\n",
    "\n",
    "# Load data to panda data frame\n",
    "rows=[]\n",
    "with open(os.path.join('dontpatronizeme_pcl.tsv')) as f:\n",
    "    for line in f.readlines()[4:]:\n",
    "        par_id=line.strip().split('\\t')[0]\n",
    "        art_id = line.strip().split('\\t')[1]\n",
    "        keyword=line.strip().split('\\t')[2]\n",
    "        country=line.strip().split('\\t')[3]\n",
    "        t=line.strip().split('\\t')[4]#.lower()\n",
    "        l=line.strip().split('\\t')[-1]\n",
    "        if l=='0' or l=='1':\n",
    "            lbin=0\n",
    "        else:\n",
    "            lbin=1\n",
    "        rows.append(\n",
    "            {'par_id':par_id,\n",
    "            'art_id':art_id,\n",
    "            'keyword':keyword,\n",
    "            'country':country,\n",
    "            'text':t, \n",
    "            'label':lbin, \n",
    "            'orig_label':l\n",
    "            }\n",
    "            )\n",
    "df=pd.DataFrame(rows, columns=['par_id', 'art_id', 'keyword', 'country', 'text', 'label', 'orig_label']) \n",
    "print(df.shape[0])\n",
    "print(df[df['label'] == 0].shape[0])\n",
    "print(df[df['label'] == 1].shape[0])\n"
   ]
  },
  {
   "cell_type": "code",
   "execution_count": 95,
   "metadata": {},
   "outputs": [
    {
     "name": "stdout",
     "output_type": "stream",
     "text": [
      "47.87779653862389\n",
      "53.620342396777446\n",
      "48.42248543318369\n"
     ]
    },
    {
     "name": "stderr",
     "output_type": "stream",
     "text": [
      "/tmp/ipykernel_548156/4254412181.py:7: SettingWithCopyWarning: \n",
      "A value is trying to be set on a copy of a slice from a DataFrame.\n",
      "Try using .loc[row_indexer,col_indexer] = value instead\n",
      "\n",
      "See the caveats in the documentation: https://pandas.pydata.org/pandas-docs/stable/user_guide/indexing.html#returning-a-view-versus-a-copy\n",
      "  noPCL['text_Length'] = noPCL['text'].apply(lambda x: len(x.split()))\n",
      "/tmp/ipykernel_548156/4254412181.py:8: SettingWithCopyWarning: \n",
      "A value is trying to be set on a copy of a slice from a DataFrame.\n",
      "Try using .loc[row_indexer,col_indexer] = value instead\n",
      "\n",
      "See the caveats in the documentation: https://pandas.pydata.org/pandas-docs/stable/user_guide/indexing.html#returning-a-view-versus-a-copy\n",
      "  PCL['text_Length'] = PCL['text'].apply(lambda x: len(x.split()))\n"
     ]
    }
   ],
   "source": [
    "\n",
    "# Filter rows with a specific label (e.g., 'negative')\n",
    "noPCL = df[df['label'] == 0]\n",
    "PCL = df[df['label'] == 1]\n",
    "average = df\n",
    "\n",
    "# Get sentence length (in words)\n",
    "noPCL['text_Length'] = noPCL['text'].apply(lambda x: len(x.split()))\n",
    "PCL['text_Length'] = PCL['text'].apply(lambda x: len(x.split()))\n",
    "average['text_length']  = df['text'].apply(lambda x: len(x.split()))\n",
    "\n",
    "# Calculate average length\n",
    "average_length_noPCL = noPCL['text_Length'].mean()\n",
    "average_length_PCL = PCL['text_Length'].mean()\n",
    "average_l = average['text_length'].mean()\n",
    "\n",
    "print(average_length_noPCL)\n",
    "print(average_length_PCL)\n",
    "print(average_l)\n"
   ]
  },
  {
   "cell_type": "code",
   "execution_count": 96,
   "metadata": {},
   "outputs": [
    {
     "name": "stdout",
     "output_type": "stream",
     "text": [
      "919.4444444444445\n",
      "701.9259259259259\n"
     ]
    }
   ],
   "source": [
    "# Get unique values from a column\n",
    "total = df[df['keyword']=='vulnerable'].shape[0]\n",
    "unique_keywords_noPCL = noPCL[noPCL['keyword']=='vulnerable'].shape[0]\n",
    "unique_keywords_PCL = PCL[PCL['keyword']=='vulnerable'].shape[0]\n",
    "\n",
    "print((unique_keywords_noPCL/total)*(993))\n",
    "print((unique_keywords_PCL/total)*(9476))\n"
   ]
  },
  {
   "cell_type": "code",
   "execution_count": 97,
   "metadata": {},
   "outputs": [
    {
     "name": "stdout",
     "output_type": "stream",
     "text": [
      "10469\n",
      "3832\n"
     ]
    }
   ],
   "source": [
    "# Split in to dev set and test set\n",
    "train_ids = pd.read_csv('train_semeval_parids-labels.csv')\n",
    "dev_ids = pd.read_csv('dev_semeval_parids-labels.csv')\n",
    "train_ids = train_ids.iloc[:, 0].astype(str).tolist()\n",
    "dev_ids = dev_ids.iloc[:, 0].astype(str).tolist()\n",
    "\n",
    "train_df = df[df['par_id'].isin(train_ids)]\n",
    "dev_df = df[df['par_id'].isin(dev_ids)]\n",
    "print(len(train_df)+len(dev_df))\n",
    "\n",
    "# Load the final test set\n",
    "rows=[]\n",
    "with open(os.path.join('task4_test.tsv')) as f:\n",
    "    for line in f.readlines():\n",
    "        par_id=line.strip().split('\\t')[0]\n",
    "        art_id = line.strip().split('\\t')[1]\n",
    "        keyword=line.strip().split('\\t')[2]\n",
    "        country=line.strip().split('\\t')[3]\n",
    "        rows.append(\n",
    "            {'par_id':par_id,\n",
    "            'art_id':art_id,\n",
    "            'keyword':keyword,\n",
    "            'country':country,\n",
    "            'text':t, \n",
    "            }\n",
    "            )\n",
    "test_df=pd.DataFrame(rows, columns=['par_id', 'art_id', 'keyword', 'country', 'text']) \n",
    "print(test_df.shape[0])"
   ]
  }
 ],
 "metadata": {
  "kernelspec": {
   "display_name": "nlpenv",
   "language": "python",
   "name": "python3"
  },
  "language_info": {
   "codemirror_mode": {
    "name": "ipython",
    "version": 3
   },
   "file_extension": ".py",
   "mimetype": "text/x-python",
   "name": "python",
   "nbconvert_exporter": "python",
   "pygments_lexer": "ipython3",
   "version": "3.12.3"
  }
 },
 "nbformat": 4,
 "nbformat_minor": 2
}
